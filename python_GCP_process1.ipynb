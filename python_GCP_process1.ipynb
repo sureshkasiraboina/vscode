{
 "cells": [
  {
   "cell_type": "markdown",
   "id": "dea77309",
   "metadata": {},
   "source": [
    "### Authenticate Google Account \n",
    "if your google account is already authenticated, you can ignore."
   ]
  },
  {
   "cell_type": "code",
   "execution_count": null,
   "id": "808ab260",
   "metadata": {},
   "outputs": [],
   "source": [
    "!pip install gcloud auth application-default login"
   ]
  },
  {
   "cell_type": "markdown",
   "id": "745c9fe2",
   "metadata": {},
   "source": [
    "### Import Libraries"
   ]
  },
  {
   "cell_type": "code",
   "execution_count": 1,
   "id": "3037133c",
   "metadata": {},
   "outputs": [],
   "source": [
    "import pandas as pd\n",
    "import os\n",
    "from google.cloud import storage\n",
    "from google.cloud import bigquery\n",
    "from google.cloud.exceptions import NotFound\n",
    "\n",
    "import warnings\n",
    "warnings.filterwarnings(\"ignore\")"
   ]
  },
  {
   "cell_type": "markdown",
   "id": "75f53ff0",
   "metadata": {},
   "source": [
    "### Accessing Google Cloud Storage"
   ]
  },
  {
   "cell_type": "code",
   "execution_count": 15,
   "id": "ef614da7",
   "metadata": {},
   "outputs": [],
   "source": [
    "# Accessing Google Cloud Storage\n",
    "project_id = 'gcp-data-analyst-1'  # Replace with your GCP project ID\n",
    "bucket_name = 'data-ops-bucket-dev'  # Replace with your GCS bucket name"
   ]
  },
  {
   "cell_type": "markdown",
   "id": "a226d256",
   "metadata": {},
   "source": [
    "### Initialize storage bucket"
   ]
  },
  {
   "cell_type": "code",
   "execution_count": 16,
   "id": "30b9db51",
   "metadata": {},
   "outputs": [],
   "source": [
    "# Initialize storage bucket\n",
    "client = storage.Client(project=project_id)\n",
    "\n",
    "# Access the bucket\n",
    "bucket = client.bucket(bucket_name)"
   ]
  },
  {
   "cell_type": "markdown",
   "id": "59528b3f",
   "metadata": {},
   "source": [
    "### List all the files in the bucket"
   ]
  },
  {
   "cell_type": "code",
   "execution_count": 17,
   "id": "17f51884",
   "metadata": {},
   "outputs": [
    {
     "name": "stdout",
     "output_type": "stream",
     "text": [
      "files in GCS Bucket 'data-ops-bucket-dev':\n",
      " - school_operations_adult_professionalism2.csv\n"
     ]
    }
   ],
   "source": [
    "def list_files_in_bucket():\n",
    "    print(f\"files in GCS Bucket '{bucket_name}':\")\n",
    "    blobs = bucket.list_blobs()\n",
    "    for blob in blobs:\n",
    "        print(f\" - {blob.name}\")\n",
    "\n",
    "# List all the files in the bucket\n",
    "list_files_in_bucket()"
   ]
  },
  {
   "cell_type": "markdown",
   "id": "2803327d",
   "metadata": {},
   "source": [
    "#### Download a specific file from bucket"
   ]
  },
  {
   "cell_type": "code",
   "execution_count": 19,
   "id": "29e44ada",
   "metadata": {},
   "outputs": [
    {
     "ename": "NotFound",
     "evalue": "404 GET https://storage.googleapis.com/download/storage/v1/b/data-ops-bucket-dev/o/gs%3A%2F%2Fdata-ops-bucket-dev%2Fschool_operations_adult_professionalism2.csv?alt=media: No such object: data-ops-bucket-dev/gs://data-ops-bucket-dev/school_operations_adult_professionalism2.csv: ('Request failed with status code', 404, 'Expected one of', <HTTPStatus.OK: 200>, <HTTPStatus.PARTIAL_CONTENT: 206>)",
     "output_type": "error",
     "traceback": [
      "\u001b[1;31m---------------------------------------------------------------------------\u001b[0m",
      "\u001b[1;31mInvalidResponse\u001b[0m                           Traceback (most recent call last)",
      "File \u001b[1;32md:\\Project Data\\Python Workspace\\myvenv\\Lib\\site-packages\\google\\cloud\\storage\\blob.py:4401\u001b[0m, in \u001b[0;36mBlob._prep_and_do_download\u001b[1;34m(self, file_obj, client, start, end, raw_download, if_etag_match, if_etag_not_match, if_generation_match, if_generation_not_match, if_metageneration_match, if_metageneration_not_match, timeout, checksum, retry, single_shot_download, command)\u001b[0m\n\u001b[0;32m   4400\u001b[0m \u001b[38;5;28;01mtry\u001b[39;00m:\n\u001b[1;32m-> 4401\u001b[0m     \u001b[38;5;28;43mself\u001b[39;49m\u001b[38;5;241;43m.\u001b[39;49m\u001b[43m_do_download\u001b[49m\u001b[43m(\u001b[49m\n\u001b[0;32m   4402\u001b[0m \u001b[43m        \u001b[49m\u001b[43mtransport\u001b[49m\u001b[43m,\u001b[49m\n\u001b[0;32m   4403\u001b[0m \u001b[43m        \u001b[49m\u001b[43mfile_obj\u001b[49m\u001b[43m,\u001b[49m\n\u001b[0;32m   4404\u001b[0m \u001b[43m        \u001b[49m\u001b[43mdownload_url\u001b[49m\u001b[43m,\u001b[49m\n\u001b[0;32m   4405\u001b[0m \u001b[43m        \u001b[49m\u001b[43mheaders\u001b[49m\u001b[43m,\u001b[49m\n\u001b[0;32m   4406\u001b[0m \u001b[43m        \u001b[49m\u001b[43mstart\u001b[49m\u001b[43m,\u001b[49m\n\u001b[0;32m   4407\u001b[0m \u001b[43m        \u001b[49m\u001b[43mend\u001b[49m\u001b[43m,\u001b[49m\n\u001b[0;32m   4408\u001b[0m \u001b[43m        \u001b[49m\u001b[43mraw_download\u001b[49m\u001b[43m,\u001b[49m\n\u001b[0;32m   4409\u001b[0m \u001b[43m        \u001b[49m\u001b[43mtimeout\u001b[49m\u001b[38;5;241;43m=\u001b[39;49m\u001b[43mtimeout\u001b[49m\u001b[43m,\u001b[49m\n\u001b[0;32m   4410\u001b[0m \u001b[43m        \u001b[49m\u001b[43mchecksum\u001b[49m\u001b[38;5;241;43m=\u001b[39;49m\u001b[43mchecksum\u001b[49m\u001b[43m,\u001b[49m\n\u001b[0;32m   4411\u001b[0m \u001b[43m        \u001b[49m\u001b[43mretry\u001b[49m\u001b[38;5;241;43m=\u001b[39;49m\u001b[43mretry\u001b[49m\u001b[43m,\u001b[49m\n\u001b[0;32m   4412\u001b[0m \u001b[43m        \u001b[49m\u001b[43msingle_shot_download\u001b[49m\u001b[38;5;241;43m=\u001b[39;49m\u001b[43msingle_shot_download\u001b[49m\u001b[43m,\u001b[49m\n\u001b[0;32m   4413\u001b[0m \u001b[43m    \u001b[49m\u001b[43m)\u001b[49m\n\u001b[0;32m   4414\u001b[0m \u001b[38;5;28;01mexcept\u001b[39;00m InvalidResponse \u001b[38;5;28;01mas\u001b[39;00m exc:\n",
      "File \u001b[1;32md:\\Project Data\\Python Workspace\\myvenv\\Lib\\site-packages\\google\\cloud\\storage\\blob.py:1094\u001b[0m, in \u001b[0;36mBlob._do_download\u001b[1;34m(self, transport, file_obj, download_url, headers, start, end, raw_download, timeout, checksum, retry, single_shot_download)\u001b[0m\n\u001b[0;32m   1089\u001b[0m \u001b[38;5;28;01mwith\u001b[39;00m create_trace_span(\n\u001b[0;32m   1090\u001b[0m     name\u001b[38;5;241m=\u001b[39m\u001b[38;5;124mf\u001b[39m\u001b[38;5;124m\"\u001b[39m\u001b[38;5;124mStorage.\u001b[39m\u001b[38;5;132;01m{\u001b[39;00mdownload_class\u001b[38;5;132;01m}\u001b[39;00m\u001b[38;5;124m/consume\u001b[39m\u001b[38;5;124m\"\u001b[39m,\n\u001b[0;32m   1091\u001b[0m     attributes\u001b[38;5;241m=\u001b[39mextra_attributes,\n\u001b[0;32m   1092\u001b[0m     api_request\u001b[38;5;241m=\u001b[39margs,\n\u001b[0;32m   1093\u001b[0m ):\n\u001b[1;32m-> 1094\u001b[0m     response \u001b[38;5;241m=\u001b[39m \u001b[43mdownload\u001b[49m\u001b[38;5;241;43m.\u001b[39;49m\u001b[43mconsume\u001b[49m\u001b[43m(\u001b[49m\u001b[43mtransport\u001b[49m\u001b[43m,\u001b[49m\u001b[43m \u001b[49m\u001b[43mtimeout\u001b[49m\u001b[38;5;241;43m=\u001b[39;49m\u001b[43mtimeout\u001b[49m\u001b[43m)\u001b[49m\n\u001b[0;32m   1095\u001b[0m     \u001b[38;5;28mself\u001b[39m\u001b[38;5;241m.\u001b[39m_extract_headers_from_download(response)\n",
      "File \u001b[1;32md:\\Project Data\\Python Workspace\\myvenv\\Lib\\site-packages\\google\\cloud\\storage\\_media\\requests\\download.py:280\u001b[0m, in \u001b[0;36mDownload.consume\u001b[1;34m(self, transport, timeout)\u001b[0m\n\u001b[0;32m    278\u001b[0m     \u001b[38;5;28;01mreturn\u001b[39;00m result\n\u001b[1;32m--> 280\u001b[0m \u001b[38;5;28;01mreturn\u001b[39;00m \u001b[43m_request_helpers\u001b[49m\u001b[38;5;241;43m.\u001b[39;49m\u001b[43mwait_and_retry\u001b[49m\u001b[43m(\u001b[49m\u001b[43mretriable_request\u001b[49m\u001b[43m,\u001b[49m\u001b[43m \u001b[49m\u001b[38;5;28;43mself\u001b[39;49m\u001b[38;5;241;43m.\u001b[39;49m\u001b[43m_retry_strategy\u001b[49m\u001b[43m)\u001b[49m\n",
      "File \u001b[1;32md:\\Project Data\\Python Workspace\\myvenv\\Lib\\site-packages\\google\\cloud\\storage\\_media\\requests\\_request_helpers.py:107\u001b[0m, in \u001b[0;36mwait_and_retry\u001b[1;34m(func, retry_strategy)\u001b[0m\n\u001b[0;32m    106\u001b[0m     func \u001b[38;5;241m=\u001b[39m retry_strategy(func)\n\u001b[1;32m--> 107\u001b[0m \u001b[38;5;28;01mreturn\u001b[39;00m \u001b[43mfunc\u001b[49m\u001b[43m(\u001b[49m\u001b[43m)\u001b[49m\n",
      "File \u001b[1;32md:\\Project Data\\Python Workspace\\myvenv\\Lib\\site-packages\\google\\api_core\\retry\\retry_unary.py:293\u001b[0m, in \u001b[0;36mRetry.__call__.<locals>.retry_wrapped_func\u001b[1;34m(*args, **kwargs)\u001b[0m\n\u001b[0;32m    290\u001b[0m sleep_generator \u001b[38;5;241m=\u001b[39m exponential_sleep_generator(\n\u001b[0;32m    291\u001b[0m     \u001b[38;5;28mself\u001b[39m\u001b[38;5;241m.\u001b[39m_initial, \u001b[38;5;28mself\u001b[39m\u001b[38;5;241m.\u001b[39m_maximum, multiplier\u001b[38;5;241m=\u001b[39m\u001b[38;5;28mself\u001b[39m\u001b[38;5;241m.\u001b[39m_multiplier\n\u001b[0;32m    292\u001b[0m )\n\u001b[1;32m--> 293\u001b[0m \u001b[38;5;28;01mreturn\u001b[39;00m \u001b[43mretry_target\u001b[49m\u001b[43m(\u001b[49m\n\u001b[0;32m    294\u001b[0m \u001b[43m    \u001b[49m\u001b[43mtarget\u001b[49m\u001b[43m,\u001b[49m\n\u001b[0;32m    295\u001b[0m \u001b[43m    \u001b[49m\u001b[38;5;28;43mself\u001b[39;49m\u001b[38;5;241;43m.\u001b[39;49m\u001b[43m_predicate\u001b[49m\u001b[43m,\u001b[49m\n\u001b[0;32m    296\u001b[0m \u001b[43m    \u001b[49m\u001b[43msleep_generator\u001b[49m\u001b[43m,\u001b[49m\n\u001b[0;32m    297\u001b[0m \u001b[43m    \u001b[49m\u001b[43mtimeout\u001b[49m\u001b[38;5;241;43m=\u001b[39;49m\u001b[38;5;28;43mself\u001b[39;49m\u001b[38;5;241;43m.\u001b[39;49m\u001b[43m_timeout\u001b[49m\u001b[43m,\u001b[49m\n\u001b[0;32m    298\u001b[0m \u001b[43m    \u001b[49m\u001b[43mon_error\u001b[49m\u001b[38;5;241;43m=\u001b[39;49m\u001b[43mon_error\u001b[49m\u001b[43m,\u001b[49m\n\u001b[0;32m    299\u001b[0m \u001b[43m\u001b[49m\u001b[43m)\u001b[49m\n",
      "File \u001b[1;32md:\\Project Data\\Python Workspace\\myvenv\\Lib\\site-packages\\google\\api_core\\retry\\retry_unary.py:153\u001b[0m, in \u001b[0;36mretry_target\u001b[1;34m(target, predicate, sleep_generator, timeout, on_error, exception_factory, **kwargs)\u001b[0m\n\u001b[0;32m    151\u001b[0m \u001b[38;5;28;01mexcept\u001b[39;00m \u001b[38;5;167;01mException\u001b[39;00m \u001b[38;5;28;01mas\u001b[39;00m exc:\n\u001b[0;32m    152\u001b[0m     \u001b[38;5;66;03m# defer to shared logic for handling errors\u001b[39;00m\n\u001b[1;32m--> 153\u001b[0m     \u001b[43m_retry_error_helper\u001b[49m\u001b[43m(\u001b[49m\n\u001b[0;32m    154\u001b[0m \u001b[43m        \u001b[49m\u001b[43mexc\u001b[49m\u001b[43m,\u001b[49m\n\u001b[0;32m    155\u001b[0m \u001b[43m        \u001b[49m\u001b[43mdeadline\u001b[49m\u001b[43m,\u001b[49m\n\u001b[0;32m    156\u001b[0m \u001b[43m        \u001b[49m\u001b[43msleep\u001b[49m\u001b[43m,\u001b[49m\n\u001b[0;32m    157\u001b[0m \u001b[43m        \u001b[49m\u001b[43merror_list\u001b[49m\u001b[43m,\u001b[49m\n\u001b[0;32m    158\u001b[0m \u001b[43m        \u001b[49m\u001b[43mpredicate\u001b[49m\u001b[43m,\u001b[49m\n\u001b[0;32m    159\u001b[0m \u001b[43m        \u001b[49m\u001b[43mon_error\u001b[49m\u001b[43m,\u001b[49m\n\u001b[0;32m    160\u001b[0m \u001b[43m        \u001b[49m\u001b[43mexception_factory\u001b[49m\u001b[43m,\u001b[49m\n\u001b[0;32m    161\u001b[0m \u001b[43m        \u001b[49m\u001b[43mtimeout\u001b[49m\u001b[43m,\u001b[49m\n\u001b[0;32m    162\u001b[0m \u001b[43m    \u001b[49m\u001b[43m)\u001b[49m\n\u001b[0;32m    163\u001b[0m     \u001b[38;5;66;03m# if exception not raised, sleep before next attempt\u001b[39;00m\n",
      "File \u001b[1;32md:\\Project Data\\Python Workspace\\myvenv\\Lib\\site-packages\\google\\api_core\\retry\\retry_base.py:212\u001b[0m, in \u001b[0;36m_retry_error_helper\u001b[1;34m(exc, deadline, next_sleep, error_list, predicate_fn, on_error_fn, exc_factory_fn, original_timeout)\u001b[0m\n\u001b[0;32m    207\u001b[0m     final_exc, source_exc \u001b[38;5;241m=\u001b[39m exc_factory_fn(\n\u001b[0;32m    208\u001b[0m         error_list,\n\u001b[0;32m    209\u001b[0m         RetryFailureReason\u001b[38;5;241m.\u001b[39mNON_RETRYABLE_ERROR,\n\u001b[0;32m    210\u001b[0m         original_timeout,\n\u001b[0;32m    211\u001b[0m     )\n\u001b[1;32m--> 212\u001b[0m     \u001b[38;5;28;01mraise\u001b[39;00m final_exc \u001b[38;5;28;01mfrom\u001b[39;00m\u001b[38;5;250m \u001b[39m\u001b[38;5;21;01msource_exc\u001b[39;00m\n\u001b[0;32m    213\u001b[0m \u001b[38;5;28;01mif\u001b[39;00m on_error_fn \u001b[38;5;129;01mis\u001b[39;00m \u001b[38;5;129;01mnot\u001b[39;00m \u001b[38;5;28;01mNone\u001b[39;00m:\n",
      "File \u001b[1;32md:\\Project Data\\Python Workspace\\myvenv\\Lib\\site-packages\\google\\api_core\\retry\\retry_unary.py:144\u001b[0m, in \u001b[0;36mretry_target\u001b[1;34m(target, predicate, sleep_generator, timeout, on_error, exception_factory, **kwargs)\u001b[0m\n\u001b[0;32m    143\u001b[0m \u001b[38;5;28;01mtry\u001b[39;00m:\n\u001b[1;32m--> 144\u001b[0m     result \u001b[38;5;241m=\u001b[39m \u001b[43mtarget\u001b[49m\u001b[43m(\u001b[49m\u001b[43m)\u001b[49m\n\u001b[0;32m    145\u001b[0m     \u001b[38;5;28;01mif\u001b[39;00m inspect\u001b[38;5;241m.\u001b[39misawaitable(result):\n",
      "File \u001b[1;32md:\\Project Data\\Python Workspace\\myvenv\\Lib\\site-packages\\google\\cloud\\storage\\_media\\requests\\download.py:262\u001b[0m, in \u001b[0;36mDownload.consume.<locals>.retriable_request\u001b[1;34m()\u001b[0m\n\u001b[0;32m    258\u001b[0m     \u001b[38;5;28mself\u001b[39m\u001b[38;5;241m.\u001b[39m_object_generation \u001b[38;5;241m=\u001b[39m _helpers\u001b[38;5;241m.\u001b[39m_parse_generation_header(\n\u001b[0;32m    259\u001b[0m         result, \u001b[38;5;28mself\u001b[39m\u001b[38;5;241m.\u001b[39m_get_headers\n\u001b[0;32m    260\u001b[0m     )\n\u001b[1;32m--> 262\u001b[0m \u001b[38;5;28;43mself\u001b[39;49m\u001b[38;5;241;43m.\u001b[39;49m\u001b[43m_process_response\u001b[49m\u001b[43m(\u001b[49m\u001b[43mresult\u001b[49m\u001b[43m)\u001b[49m\n\u001b[0;32m    264\u001b[0m \u001b[38;5;66;03m# With decompressive transcoding, GCS serves back the whole file regardless of the range request,\u001b[39;00m\n\u001b[0;32m    265\u001b[0m \u001b[38;5;66;03m# thus we reset the stream position to the start of the stream.\u001b[39;00m\n\u001b[0;32m    266\u001b[0m \u001b[38;5;66;03m# See: https://cloud.google.com/storage/docs/transcoding#range\u001b[39;00m\n",
      "File \u001b[1;32md:\\Project Data\\Python Workspace\\myvenv\\Lib\\site-packages\\google\\cloud\\storage\\_media\\_download.py:232\u001b[0m, in \u001b[0;36mDownload._process_response\u001b[1;34m(self, response)\u001b[0m\n\u001b[0;32m    231\u001b[0m \u001b[38;5;28mself\u001b[39m\u001b[38;5;241m.\u001b[39m_finished \u001b[38;5;241m=\u001b[39m \u001b[38;5;28;01mTrue\u001b[39;00m\n\u001b[1;32m--> 232\u001b[0m \u001b[43m_helpers\u001b[49m\u001b[38;5;241;43m.\u001b[39;49m\u001b[43mrequire_status_code\u001b[49m\u001b[43m(\u001b[49m\n\u001b[0;32m    233\u001b[0m \u001b[43m    \u001b[49m\u001b[43mresponse\u001b[49m\u001b[43m,\u001b[49m\u001b[43m \u001b[49m\u001b[43m_ACCEPTABLE_STATUS_CODES\u001b[49m\u001b[43m,\u001b[49m\u001b[43m \u001b[49m\u001b[38;5;28;43mself\u001b[39;49m\u001b[38;5;241;43m.\u001b[39;49m\u001b[43m_get_status_code\u001b[49m\n\u001b[0;32m    234\u001b[0m \u001b[43m\u001b[49m\u001b[43m)\u001b[49m\n",
      "File \u001b[1;32md:\\Project Data\\Python Workspace\\myvenv\\Lib\\site-packages\\google\\cloud\\storage\\_media\\_helpers.py:105\u001b[0m, in \u001b[0;36mrequire_status_code\u001b[1;34m(response, status_codes, get_status_code, callback)\u001b[0m\n\u001b[0;32m    104\u001b[0m         callback()\n\u001b[1;32m--> 105\u001b[0m     \u001b[38;5;28;01mraise\u001b[39;00m InvalidResponse(\n\u001b[0;32m    106\u001b[0m         response,\n\u001b[0;32m    107\u001b[0m         \u001b[38;5;124m\"\u001b[39m\u001b[38;5;124mRequest failed with status code\u001b[39m\u001b[38;5;124m\"\u001b[39m,\n\u001b[0;32m    108\u001b[0m         status_code,\n\u001b[0;32m    109\u001b[0m         \u001b[38;5;124m\"\u001b[39m\u001b[38;5;124mExpected one of\u001b[39m\u001b[38;5;124m\"\u001b[39m,\n\u001b[0;32m    110\u001b[0m         \u001b[38;5;241m*\u001b[39mstatus_codes\n\u001b[0;32m    111\u001b[0m     )\n\u001b[0;32m    112\u001b[0m \u001b[38;5;28;01mreturn\u001b[39;00m status_code\n",
      "\u001b[1;31mInvalidResponse\u001b[0m: ('Request failed with status code', 404, 'Expected one of', <HTTPStatus.OK: 200>, <HTTPStatus.PARTIAL_CONTENT: 206>)",
      "\nDuring handling of the above exception, another exception occurred:\n",
      "\u001b[1;31mNotFound\u001b[0m                                  Traceback (most recent call last)",
      "Cell \u001b[1;32mIn[19], line 22\u001b[0m\n\u001b[0;32m     18\u001b[0m     \u001b[38;5;28mprint\u001b[39m(\u001b[38;5;124mf\u001b[39m\u001b[38;5;124m\"\u001b[39m\u001b[38;5;124mTO DIRECTORY:\u001b[39m\u001b[38;5;124m'\u001b[39m\u001b[38;5;132;01m{\u001b[39;00mdestination_path\u001b[38;5;132;01m}\u001b[39;00m\u001b[38;5;124m'\u001b[39m\u001b[38;5;124m\"\u001b[39m)\n\u001b[0;32m     21\u001b[0m \u001b[38;5;66;03m# Call the function\u001b[39;00m\n\u001b[1;32m---> 22\u001b[0m \u001b[43mdownload_file\u001b[49m\u001b[43m(\u001b[49m\u001b[43mGCS_BUCKET_PATH\u001b[49m\u001b[43m,\u001b[49m\u001b[43mTARGET_PATH\u001b[49m\u001b[43m)\u001b[49m\n",
      "Cell \u001b[1;32mIn[19], line 15\u001b[0m, in \u001b[0;36mdownload_file\u001b[1;34m(blob_name, destination_folder)\u001b[0m\n\u001b[0;32m     12\u001b[0m destination_path \u001b[38;5;241m=\u001b[39m os\u001b[38;5;241m.\u001b[39mpath\u001b[38;5;241m.\u001b[39mjoin(destination_folder, os\u001b[38;5;241m.\u001b[39mpath\u001b[38;5;241m.\u001b[39mbasename(blob_name))\n\u001b[0;32m     14\u001b[0m blob \u001b[38;5;241m=\u001b[39m bucket\u001b[38;5;241m.\u001b[39mblob(blob_name)\n\u001b[1;32m---> 15\u001b[0m \u001b[43mblob\u001b[49m\u001b[38;5;241;43m.\u001b[39;49m\u001b[43mdownload_to_filename\u001b[49m\u001b[43m(\u001b[49m\u001b[43mdestination_path\u001b[49m\u001b[43m)\u001b[49m\n\u001b[0;32m     17\u001b[0m \u001b[38;5;28mprint\u001b[39m(\u001b[38;5;124mf\u001b[39m\u001b[38;5;124m\"\u001b[39m\u001b[38;5;124mDOWNLOAD FROM : \u001b[39m\u001b[38;5;124m'\u001b[39m\u001b[38;5;132;01m{\u001b[39;00mblob_name\u001b[38;5;132;01m}\u001b[39;00m\u001b[38;5;130;01m\\n\u001b[39;00m\u001b[38;5;124m\"\u001b[39m)\n\u001b[0;32m     18\u001b[0m \u001b[38;5;28mprint\u001b[39m(\u001b[38;5;124mf\u001b[39m\u001b[38;5;124m\"\u001b[39m\u001b[38;5;124mTO DIRECTORY:\u001b[39m\u001b[38;5;124m'\u001b[39m\u001b[38;5;132;01m{\u001b[39;00mdestination_path\u001b[38;5;132;01m}\u001b[39;00m\u001b[38;5;124m'\u001b[39m\u001b[38;5;124m\"\u001b[39m)\n",
      "File \u001b[1;32md:\\Project Data\\Python Workspace\\myvenv\\Lib\\site-packages\\google\\cloud\\storage\\blob.py:1403\u001b[0m, in \u001b[0;36mBlob.download_to_filename\u001b[1;34m(self, filename, client, start, end, raw_download, if_etag_match, if_etag_not_match, if_generation_match, if_generation_not_match, if_metageneration_match, if_metageneration_not_match, timeout, checksum, retry, single_shot_download)\u001b[0m\n\u001b[0;32m   1310\u001b[0m \u001b[38;5;250m\u001b[39m\u001b[38;5;124;03m\"\"\"Download the contents of this blob into a named file.\u001b[39;00m\n\u001b[0;32m   1311\u001b[0m \n\u001b[0;32m   1312\u001b[0m \u001b[38;5;124;03mIf :attr:`user_project` is set on the bucket, bills the API request\u001b[39;00m\n\u001b[1;32m   (...)\u001b[0m\n\u001b[0;32m   1400\u001b[0m \u001b[38;5;124;03m:raises: :class:`google.cloud.exceptions.NotFound`\u001b[39;00m\n\u001b[0;32m   1401\u001b[0m \u001b[38;5;124;03m\"\"\"\u001b[39;00m\n\u001b[0;32m   1402\u001b[0m \u001b[38;5;28;01mwith\u001b[39;00m create_trace_span(name\u001b[38;5;241m=\u001b[39m\u001b[38;5;124m\"\u001b[39m\u001b[38;5;124mStorage.Blob.downloadToFilename\u001b[39m\u001b[38;5;124m\"\u001b[39m):\n\u001b[1;32m-> 1403\u001b[0m     \u001b[38;5;28;43mself\u001b[39;49m\u001b[38;5;241;43m.\u001b[39;49m\u001b[43m_handle_filename_and_download\u001b[49m\u001b[43m(\u001b[49m\n\u001b[0;32m   1404\u001b[0m \u001b[43m        \u001b[49m\u001b[43mfilename\u001b[49m\u001b[43m,\u001b[49m\n\u001b[0;32m   1405\u001b[0m \u001b[43m        \u001b[49m\u001b[43mclient\u001b[49m\u001b[38;5;241;43m=\u001b[39;49m\u001b[43mclient\u001b[49m\u001b[43m,\u001b[49m\n\u001b[0;32m   1406\u001b[0m \u001b[43m        \u001b[49m\u001b[43mstart\u001b[49m\u001b[38;5;241;43m=\u001b[39;49m\u001b[43mstart\u001b[49m\u001b[43m,\u001b[49m\n\u001b[0;32m   1407\u001b[0m \u001b[43m        \u001b[49m\u001b[43mend\u001b[49m\u001b[38;5;241;43m=\u001b[39;49m\u001b[43mend\u001b[49m\u001b[43m,\u001b[49m\n\u001b[0;32m   1408\u001b[0m \u001b[43m        \u001b[49m\u001b[43mraw_download\u001b[49m\u001b[38;5;241;43m=\u001b[39;49m\u001b[43mraw_download\u001b[49m\u001b[43m,\u001b[49m\n\u001b[0;32m   1409\u001b[0m \u001b[43m        \u001b[49m\u001b[43mif_etag_match\u001b[49m\u001b[38;5;241;43m=\u001b[39;49m\u001b[43mif_etag_match\u001b[49m\u001b[43m,\u001b[49m\n\u001b[0;32m   1410\u001b[0m \u001b[43m        \u001b[49m\u001b[43mif_etag_not_match\u001b[49m\u001b[38;5;241;43m=\u001b[39;49m\u001b[43mif_etag_not_match\u001b[49m\u001b[43m,\u001b[49m\n\u001b[0;32m   1411\u001b[0m \u001b[43m        \u001b[49m\u001b[43mif_generation_match\u001b[49m\u001b[38;5;241;43m=\u001b[39;49m\u001b[43mif_generation_match\u001b[49m\u001b[43m,\u001b[49m\n\u001b[0;32m   1412\u001b[0m \u001b[43m        \u001b[49m\u001b[43mif_generation_not_match\u001b[49m\u001b[38;5;241;43m=\u001b[39;49m\u001b[43mif_generation_not_match\u001b[49m\u001b[43m,\u001b[49m\n\u001b[0;32m   1413\u001b[0m \u001b[43m        \u001b[49m\u001b[43mif_metageneration_match\u001b[49m\u001b[38;5;241;43m=\u001b[39;49m\u001b[43mif_metageneration_match\u001b[49m\u001b[43m,\u001b[49m\n\u001b[0;32m   1414\u001b[0m \u001b[43m        \u001b[49m\u001b[43mif_metageneration_not_match\u001b[49m\u001b[38;5;241;43m=\u001b[39;49m\u001b[43mif_metageneration_not_match\u001b[49m\u001b[43m,\u001b[49m\n\u001b[0;32m   1415\u001b[0m \u001b[43m        \u001b[49m\u001b[43mtimeout\u001b[49m\u001b[38;5;241;43m=\u001b[39;49m\u001b[43mtimeout\u001b[49m\u001b[43m,\u001b[49m\n\u001b[0;32m   1416\u001b[0m \u001b[43m        \u001b[49m\u001b[43mchecksum\u001b[49m\u001b[38;5;241;43m=\u001b[39;49m\u001b[43mchecksum\u001b[49m\u001b[43m,\u001b[49m\n\u001b[0;32m   1417\u001b[0m \u001b[43m        \u001b[49m\u001b[43mretry\u001b[49m\u001b[38;5;241;43m=\u001b[39;49m\u001b[43mretry\u001b[49m\u001b[43m,\u001b[49m\n\u001b[0;32m   1418\u001b[0m \u001b[43m        \u001b[49m\u001b[43msingle_shot_download\u001b[49m\u001b[38;5;241;43m=\u001b[39;49m\u001b[43msingle_shot_download\u001b[49m\u001b[43m,\u001b[49m\n\u001b[0;32m   1419\u001b[0m \u001b[43m    \u001b[49m\u001b[43m)\u001b[49m\n",
      "File \u001b[1;32md:\\Project Data\\Python Workspace\\myvenv\\Lib\\site-packages\\google\\cloud\\storage\\blob.py:1276\u001b[0m, in \u001b[0;36mBlob._handle_filename_and_download\u001b[1;34m(self, filename, *args, **kwargs)\u001b[0m\n\u001b[0;32m   1274\u001b[0m \u001b[38;5;28;01mtry\u001b[39;00m:\n\u001b[0;32m   1275\u001b[0m     \u001b[38;5;28;01mwith\u001b[39;00m \u001b[38;5;28mopen\u001b[39m(filename, \u001b[38;5;124m\"\u001b[39m\u001b[38;5;124mwb\u001b[39m\u001b[38;5;124m\"\u001b[39m) \u001b[38;5;28;01mas\u001b[39;00m file_obj:\n\u001b[1;32m-> 1276\u001b[0m         \u001b[38;5;28;43mself\u001b[39;49m\u001b[38;5;241;43m.\u001b[39;49m\u001b[43m_prep_and_do_download\u001b[49m\u001b[43m(\u001b[49m\n\u001b[0;32m   1277\u001b[0m \u001b[43m            \u001b[49m\u001b[43mfile_obj\u001b[49m\u001b[43m,\u001b[49m\n\u001b[0;32m   1278\u001b[0m \u001b[43m            \u001b[49m\u001b[38;5;241;43m*\u001b[39;49m\u001b[43margs\u001b[49m\u001b[43m,\u001b[49m\n\u001b[0;32m   1279\u001b[0m \u001b[43m            \u001b[49m\u001b[38;5;241;43m*\u001b[39;49m\u001b[38;5;241;43m*\u001b[39;49m\u001b[43mkwargs\u001b[49m\u001b[43m,\u001b[49m\n\u001b[0;32m   1280\u001b[0m \u001b[43m        \u001b[49m\u001b[43m)\u001b[49m\n\u001b[0;32m   1282\u001b[0m \u001b[38;5;28;01mexcept\u001b[39;00m (DataCorruption, NotFound):\n\u001b[0;32m   1283\u001b[0m     \u001b[38;5;66;03m# Delete the corrupt or empty downloaded file.\u001b[39;00m\n\u001b[0;32m   1284\u001b[0m     os\u001b[38;5;241m.\u001b[39mremove(filename)\n",
      "File \u001b[1;32md:\\Project Data\\Python Workspace\\myvenv\\Lib\\site-packages\\google\\cloud\\storage\\blob.py:4415\u001b[0m, in \u001b[0;36mBlob._prep_and_do_download\u001b[1;34m(self, file_obj, client, start, end, raw_download, if_etag_match, if_etag_not_match, if_generation_match, if_generation_not_match, if_metageneration_match, if_metageneration_not_match, timeout, checksum, retry, single_shot_download, command)\u001b[0m\n\u001b[0;32m   4401\u001b[0m     \u001b[38;5;28mself\u001b[39m\u001b[38;5;241m.\u001b[39m_do_download(\n\u001b[0;32m   4402\u001b[0m         transport,\n\u001b[0;32m   4403\u001b[0m         file_obj,\n\u001b[1;32m   (...)\u001b[0m\n\u001b[0;32m   4412\u001b[0m         single_shot_download\u001b[38;5;241m=\u001b[39msingle_shot_download,\n\u001b[0;32m   4413\u001b[0m     )\n\u001b[0;32m   4414\u001b[0m \u001b[38;5;28;01mexcept\u001b[39;00m InvalidResponse \u001b[38;5;28;01mas\u001b[39;00m exc:\n\u001b[1;32m-> 4415\u001b[0m     \u001b[43m_raise_from_invalid_response\u001b[49m\u001b[43m(\u001b[49m\u001b[43mexc\u001b[49m\u001b[43m)\u001b[49m\n",
      "File \u001b[1;32md:\\Project Data\\Python Workspace\\myvenv\\Lib\\site-packages\\google\\cloud\\storage\\blob.py:4887\u001b[0m, in \u001b[0;36m_raise_from_invalid_response\u001b[1;34m(error)\u001b[0m\n\u001b[0;32m   4883\u001b[0m     error_message \u001b[38;5;241m=\u001b[39m \u001b[38;5;28mstr\u001b[39m(error)\n\u001b[0;32m   4885\u001b[0m message \u001b[38;5;241m=\u001b[39m \u001b[38;5;124mf\u001b[39m\u001b[38;5;124m\"\u001b[39m\u001b[38;5;132;01m{\u001b[39;00mresponse\u001b[38;5;241m.\u001b[39mrequest\u001b[38;5;241m.\u001b[39mmethod\u001b[38;5;132;01m}\u001b[39;00m\u001b[38;5;124m \u001b[39m\u001b[38;5;132;01m{\u001b[39;00mresponse\u001b[38;5;241m.\u001b[39mrequest\u001b[38;5;241m.\u001b[39murl\u001b[38;5;132;01m}\u001b[39;00m\u001b[38;5;124m: \u001b[39m\u001b[38;5;132;01m{\u001b[39;00merror_message\u001b[38;5;132;01m}\u001b[39;00m\u001b[38;5;124m\"\u001b[39m\n\u001b[1;32m-> 4887\u001b[0m \u001b[38;5;28;01mraise\u001b[39;00m exceptions\u001b[38;5;241m.\u001b[39mfrom_http_status(response\u001b[38;5;241m.\u001b[39mstatus_code, message, response\u001b[38;5;241m=\u001b[39mresponse)\n",
      "\u001b[1;31mNotFound\u001b[0m: 404 GET https://storage.googleapis.com/download/storage/v1/b/data-ops-bucket-dev/o/gs%3A%2F%2Fdata-ops-bucket-dev%2Fschool_operations_adult_professionalism2.csv?alt=media: No such object: data-ops-bucket-dev/gs://data-ops-bucket-dev/school_operations_adult_professionalism2.csv: ('Request failed with status code', 404, 'Expected one of', <HTTPStatus.OK: 200>, <HTTPStatus.PARTIAL_CONTENT: 206>)"
     ]
    }
   ],
   "source": [
    "BUCKET_NAME = \"data-ops-bucket-dev\"\n",
    "TARGET_PATH = r\"C:\\Users\\SURESH KASIRABOINA\\Downloads\"\n",
    "GCS_BUCKET_PATH = 'gs://data-ops-bucket-dev/school_operations_adult_professionalism2.csv'\n",
    "\n",
    "\n",
    "# Bucket Configuration\n",
    "bucket = client.bucket(BUCKET_NAME)\n",
    "\n",
    "#function to \n",
    "def download_file(blob_name, destination_folder):\n",
    "    os.makedirs(destination_folder, exist_ok = True)\n",
    "    destination_path = os.path.join(destination_folder, os.path.basename(blob_name))\n",
    "\n",
    "    blob = bucket.blob(blob_name)\n",
    "    blob.download_to_filename(destination_path)\n",
    "\n",
    "    print(f\"DOWNLOAD FROM : '{blob_name}\\n\")\n",
    "    print(f\"TO DIRECTORY:'{destination_path}'\")\n",
    "\n",
    "\n",
    "# Call the function\n",
    "download_file(GCS_BUCKET_PATH,TARGET_PATH)"
   ]
  },
  {
   "cell_type": "code",
   "execution_count": 20,
   "id": "63de420f",
   "metadata": {},
   "outputs": [
    {
     "name": "stdout",
     "output_type": "stream",
     "text": [
      "DOWNLOAD FROM : 'school_operations_adult_professionalism2.csv\n",
      "\n",
      "TO DIRECTORY:'C:\\Users\\SURESH KASIRABOINA\\Downloads\\school_operations_adult_professionalism2.csv'\n"
     ]
    }
   ],
   "source": [
    "from urllib.parse import urlparse\n",
    "\n",
    "def get_blob_name(gcs_path):\n",
    "    # Extract the object name from a GCS URI\n",
    "    parsed = urlparse(gcs_path)\n",
    "    if parsed.scheme == 'gs':\n",
    "        return parsed.path.lstrip('/')\n",
    "    return gcs_path\n",
    "\n",
    "# Call the function with the correct blob name\n",
    "blob_name = get_blob_name(GCS_BUCKET_PATH)\n",
    "download_file(blob_name, TARGET_PATH)"
   ]
  },
  {
   "cell_type": "code",
   "execution_count": 6,
   "id": "412ec90a",
   "metadata": {},
   "outputs": [],
   "source": [
    "TARGET_PATH = r\"C:\\Users\\SURESH KASIRABOINA\\Downloads\""
   ]
  },
  {
   "cell_type": "markdown",
   "id": "6eb7face",
   "metadata": {},
   "source": [
    "### Accessing BigQuery to Read and write data"
   ]
  },
  {
   "cell_type": "markdown",
   "id": "3194b751",
   "metadata": {},
   "source": [
    "#### List all tables in BigQuery table"
   ]
  },
  {
   "cell_type": "code",
   "execution_count": 7,
   "id": "1750c0f5",
   "metadata": {},
   "outputs": [
    {
     "name": "stdout",
     "output_type": "stream",
     "text": [
      "Tables in dataset 'gcp-data-analyst-1.user_analytics_db':\n",
      " - campaigns\n",
      " - customer_segments\n",
      " - daily_performance\n",
      " - employee_view\n",
      " - external_employee\n",
      " - sales_data\n",
      " - sales_data_part\n",
      " - stackoverflow\n",
      " - stackoverflow_post_question_part\n"
     ]
    }
   ],
   "source": [
    "# List all tables in the dataset to verify table names\n",
    "\n",
    "# Set your project and dataset info\n",
    "PROJECT_ID = 'gcp-data-analyst-1'\n",
    "\n",
    "dataset_id = f\"{PROJECT_ID}.user_analytics_db\"\n",
    "bq_client = bigquery.Client(project=PROJECT_ID)\n",
    "\n",
    "tables = list(bq_client.list_tables(dataset_id))\n",
    "print(f\"Tables in dataset '{dataset_id}':\")\n",
    "for table in tables:\n",
    "    print(f\" - {table.table_id}\")"
   ]
  },
  {
   "cell_type": "markdown",
   "id": "c2b501e3",
   "metadata": {},
   "source": [
    "#### Read BigQuery table"
   ]
  },
  {
   "cell_type": "code",
   "execution_count": 11,
   "id": "dfeada74",
   "metadata": {},
   "outputs": [
    {
     "name": "stdout",
     "output_type": "stream",
     "text": [
      "Loaded 1 rows from BigQuery.\n"
     ]
    },
    {
     "data": {
      "text/html": [
       "<div>\n",
       "<style scoped>\n",
       "    .dataframe tbody tr th:only-of-type {\n",
       "        vertical-align: middle;\n",
       "    }\n",
       "\n",
       "    .dataframe tbody tr th {\n",
       "        vertical-align: top;\n",
       "    }\n",
       "\n",
       "    .dataframe thead th {\n",
       "        text-align: right;\n",
       "    }\n",
       "</style>\n",
       "<table border=\"1\" class=\"dataframe\">\n",
       "  <thead>\n",
       "    <tr style=\"text-align: right;\">\n",
       "      <th></th>\n",
       "      <th>campaign_id</th>\n",
       "      <th>campaign_name</th>\n",
       "      <th>channel</th>\n",
       "      <th>start_date</th>\n",
       "      <th>end_date</th>\n",
       "      <th>budget</th>\n",
       "      <th>campaign_type</th>\n",
       "      <th>target_audience</th>\n",
       "      <th>geography</th>\n",
       "    </tr>\n",
       "  </thead>\n",
       "  <tbody>\n",
       "    <tr>\n",
       "      <th>0</th>\n",
       "      <td>c004</td>\n",
       "      <td>Back to School</td>\n",
       "      <td>Instagram</td>\n",
       "      <td>2024-08-15</td>\n",
       "      <td>2024-09-15</td>\n",
       "      <td>40000.0</td>\n",
       "      <td>Social Media</td>\n",
       "      <td>Students</td>\n",
       "      <td>US</td>\n",
       "    </tr>\n",
       "  </tbody>\n",
       "</table>\n",
       "</div>"
      ],
      "text/plain": [
       "  campaign_id   campaign_name    channel  start_date    end_date   budget  \\\n",
       "0        c004  Back to School  Instagram  2024-08-15  2024-09-15  40000.0   \n",
       "\n",
       "  campaign_type target_audience geography  \n",
       "0  Social Media        Students        US  "
      ]
     },
     "execution_count": 11,
     "metadata": {},
     "output_type": "execute_result"
    }
   ],
   "source": [
    "# Set your project and dataset info\n",
    "PROJECT_ID = 'gcp-data-analyst-1'\n",
    "\n",
    "def read_bigquery(query):\n",
    "\n",
    "    client = bigquery.Client(project = PROJECT_ID)\n",
    "    df = client.query(query).to_dataframe()\n",
    "    \n",
    "    print(f\"Loaded {len(df)} rows from BigQuery.\")\n",
    "    return df\n",
    "\n",
    "\n",
    "## Example usage:\n",
    "sql_query = \"\"\"\n",
    "            SELECT * FROM gcp-data-analyst-1.user_analytics_db.campaigns LIMIT 10\n",
    "\n",
    "            \"\"\"\n",
    "df = read_bigquery(sql_query)\n",
    "df.head(5)"
   ]
  },
  {
   "cell_type": "code",
   "execution_count": 14,
   "id": "a29894ee",
   "metadata": {},
   "outputs": [
    {
     "data": {
      "text/html": [
       "<div>\n",
       "<style scoped>\n",
       "    .dataframe tbody tr th:only-of-type {\n",
       "        vertical-align: middle;\n",
       "    }\n",
       "\n",
       "    .dataframe tbody tr th {\n",
       "        vertical-align: top;\n",
       "    }\n",
       "\n",
       "    .dataframe thead th {\n",
       "        text-align: right;\n",
       "    }\n",
       "</style>\n",
       "<table border=\"1\" class=\"dataframe\">\n",
       "  <thead>\n",
       "    <tr style=\"text-align: right;\">\n",
       "      <th></th>\n",
       "      <th>campaign_name</th>\n",
       "      <th>total_budget</th>\n",
       "    </tr>\n",
       "  </thead>\n",
       "  <tbody>\n",
       "    <tr>\n",
       "      <th>0</th>\n",
       "      <td>Back to School</td>\n",
       "      <td>40000.0</td>\n",
       "    </tr>\n",
       "  </tbody>\n",
       "</table>\n",
       "</div>"
      ],
      "text/plain": [
       "    campaign_name  total_budget\n",
       "0  Back to School       40000.0"
      ]
     },
     "execution_count": 14,
     "metadata": {},
     "output_type": "execute_result"
    }
   ],
   "source": [
    "# group by lrl_brand and sum of sales\n",
    "df_grouped = df.groupby('campaign_name')['budget'].sum().reset_index().rename(columns={'budget': 'total_budget'})\n",
    "df_grouped = df_grouped.sort_values(by='total_budget', ascending=False).reset_index(drop=True)\n",
    "\n",
    "df_grouped"
   ]
  }
 ],
 "metadata": {
  "kernelspec": {
   "display_name": "myvenv",
   "language": "python",
   "name": "python3"
  },
  "language_info": {
   "codemirror_mode": {
    "name": "ipython",
    "version": 3
   },
   "file_extension": ".py",
   "mimetype": "text/x-python",
   "name": "python",
   "nbconvert_exporter": "python",
   "pygments_lexer": "ipython3",
   "version": "3.13.1"
  }
 },
 "nbformat": 4,
 "nbformat_minor": 5
}
