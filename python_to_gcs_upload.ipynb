{
 "cells": [
  {
   "cell_type": "code",
   "execution_count": 3,
   "id": "9d3d9f1f",
   "metadata": {},
   "outputs": [
    {
     "name": "stdout",
     "output_type": "stream",
     "text": [
      "Collecting gcloud\n",
      "  Using cached gcloud-0.18.3.tar.gz (454 kB)\n",
      "  Installing build dependencies: started\n",
      "  Installing build dependencies: finished with status 'done'\n",
      "  Getting requirements to build wheel: started\n",
      "  Getting requirements to build wheel: finished with status 'done'\n",
      "  Preparing metadata (pyproject.toml): started\n",
      "  Preparing metadata (pyproject.toml): finished with status 'done'\n",
      "Collecting auth\n",
      "  Using cached auth-0.5.3-py3-none-any.whl.metadata (7.6 kB)\n"
     ]
    },
    {
     "name": "stderr",
     "output_type": "stream",
     "text": [
      "ERROR: Could not find a version that satisfies the requirement application-default (from versions: none)\n",
      "\n",
      "[notice] A new release of pip is available: 24.3.1 -> 25.2\n",
      "[notice] To update, run: python.exe -m pip install --upgrade pip\n",
      "ERROR: No matching distribution found for application-default\n"
     ]
    }
   ],
   "source": [
    "!pip install gcloud auth application-default login"
   ]
  },
  {
   "cell_type": "code",
   "execution_count": 4,
   "id": "560cb82a",
   "metadata": {},
   "outputs": [],
   "source": [
    "from faker import Faker\n",
    "import random\n",
    "import string\n",
    "import pandas as pd\n",
    "from google.cloud import storage"
   ]
  },
  {
   "cell_type": "code",
   "execution_count": 5,
   "id": "a90e03c1",
   "metadata": {},
   "outputs": [],
   "source": [
    "fake = Faker()\n",
    "\n",
    "# ---------- Step 1: Generate Random Password ----------\n",
    "def generate_password(length=10):\n",
    "    chars = string.ascii_letters + string.digits + string.punctuation\n",
    "    return ''.join(random.choice(chars) for _ in range(length))"
   ]
  },
  {
   "cell_type": "code",
   "execution_count": 6,
   "id": "a53bea21",
   "metadata": {},
   "outputs": [],
   "source": [
    "# ---------- Step 2: Generate Employee Data ----------\n",
    "def generate_employee_data(n=100):\n",
    "    departments = [\"HR\", \"Finance\", \"Engineering\", \"Sales\", \"Marketing\", \"IT\", \"Admin\"]\n",
    "    employees = []\n",
    "\n",
    "    for i in range(1, n+1):\n",
    "        emp = {\n",
    "            \"employee_id\": i,\n",
    "            \"name\": fake.name(),\n",
    "            \"department\": random.choice(departments),\n",
    "            \"salary\": random.randint(30000, 120000),\n",
    "            \"email\": fake.email(),\n",
    "            \"joining_date\": fake.date_between(start_date=\"-5y\", end_date=\"today\"),\n",
    "            \"password\": generate_password(10)\n",
    "        }\n",
    "        employees.append(emp)\n",
    "\n",
    "    return pd.DataFrame(employees)"
   ]
  },
  {
   "cell_type": "code",
   "execution_count": null,
   "id": "07e7e3b4",
   "metadata": {},
   "outputs": [],
   "source": [
    "# ---------- Step 3: Save to CSV ----------\n",
    "df = generate_employee_data(50)  # Generate 50 employees\n",
    "csv_file = \"employee_data.csv\"\n",
    "# df.to_csv(csv_file, index=False)  # this will save the data into your local directory"
   ]
  },
  {
   "cell_type": "code",
   "execution_count": 24,
   "id": "c96fab8c",
   "metadata": {},
   "outputs": [
    {
     "data": {
      "text/html": [
       "<div>\n",
       "<style scoped>\n",
       "    .dataframe tbody tr th:only-of-type {\n",
       "        vertical-align: middle;\n",
       "    }\n",
       "\n",
       "    .dataframe tbody tr th {\n",
       "        vertical-align: top;\n",
       "    }\n",
       "\n",
       "    .dataframe thead th {\n",
       "        text-align: right;\n",
       "    }\n",
       "</style>\n",
       "<table border=\"1\" class=\"dataframe\">\n",
       "  <thead>\n",
       "    <tr style=\"text-align: right;\">\n",
       "      <th></th>\n",
       "      <th>employee_id</th>\n",
       "      <th>name</th>\n",
       "      <th>department</th>\n",
       "      <th>salary</th>\n",
       "      <th>email</th>\n",
       "      <th>joining_date</th>\n",
       "      <th>password</th>\n",
       "    </tr>\n",
       "  </thead>\n",
       "  <tbody>\n",
       "    <tr>\n",
       "      <th>0</th>\n",
       "      <td>1</td>\n",
       "      <td>John Harris</td>\n",
       "      <td>Admin</td>\n",
       "      <td>114703</td>\n",
       "      <td>randolphsara@example.org</td>\n",
       "      <td>2025-02-13</td>\n",
       "      <td>?Tj+N|p\"d(</td>\n",
       "    </tr>\n",
       "    <tr>\n",
       "      <th>1</th>\n",
       "      <td>2</td>\n",
       "      <td>Casey Campbell</td>\n",
       "      <td>Engineering</td>\n",
       "      <td>62588</td>\n",
       "      <td>gibsonjose@example.net</td>\n",
       "      <td>2025-08-09</td>\n",
       "      <td>54nu~l}^6z</td>\n",
       "    </tr>\n",
       "    <tr>\n",
       "      <th>2</th>\n",
       "      <td>3</td>\n",
       "      <td>Ann Garcia</td>\n",
       "      <td>Finance</td>\n",
       "      <td>91765</td>\n",
       "      <td>autumnmartinez@example.org</td>\n",
       "      <td>2022-09-29</td>\n",
       "      <td>cUQoD|s$&gt;9</td>\n",
       "    </tr>\n",
       "    <tr>\n",
       "      <th>3</th>\n",
       "      <td>4</td>\n",
       "      <td>Brian Taylor</td>\n",
       "      <td>Marketing</td>\n",
       "      <td>62393</td>\n",
       "      <td>piercerichard@example.com</td>\n",
       "      <td>2024-08-30</td>\n",
       "      <td>BgAb4q!7e1</td>\n",
       "    </tr>\n",
       "    <tr>\n",
       "      <th>4</th>\n",
       "      <td>5</td>\n",
       "      <td>Debbie Warren</td>\n",
       "      <td>Engineering</td>\n",
       "      <td>86150</td>\n",
       "      <td>wweaver@example.net</td>\n",
       "      <td>2024-03-09</td>\n",
       "      <td>~#2*V\"L{Du</td>\n",
       "    </tr>\n",
       "  </tbody>\n",
       "</table>\n",
       "</div>"
      ],
      "text/plain": [
       "   employee_id            name   department  salary  \\\n",
       "0            1     John Harris        Admin  114703   \n",
       "1            2  Casey Campbell  Engineering   62588   \n",
       "2            3      Ann Garcia      Finance   91765   \n",
       "3            4    Brian Taylor    Marketing   62393   \n",
       "4            5   Debbie Warren  Engineering   86150   \n",
       "\n",
       "                        email joining_date    password  \n",
       "0    randolphsara@example.org   2025-02-13  ?Tj+N|p\"d(  \n",
       "1      gibsonjose@example.net   2025-08-09  54nu~l}^6z  \n",
       "2  autumnmartinez@example.org   2022-09-29  cUQoD|s$>9  \n",
       "3   piercerichard@example.com   2024-08-30  BgAb4q!7e1  \n",
       "4         wweaver@example.net   2024-03-09  ~#2*V\"L{Du  "
      ]
     },
     "execution_count": 24,
     "metadata": {},
     "output_type": "execute_result"
    }
   ],
   "source": [
    "df.head()"
   ]
  },
  {
   "cell_type": "code",
   "execution_count": 9,
   "id": "aa972c8d",
   "metadata": {},
   "outputs": [],
   "source": [
    "# ---------- Step 4: Upload to GCS ----------\n",
    "def upload_to_gcs(bucket_name, source_file, destination_blob):\n",
    "    client = storage.Client()\n",
    "    bucket = client.bucket(bucket_name)\n",
    "    blob = bucket.blob(destination_blob)\n",
    "    blob.upload_from_filename(source_file)\n",
    "    print(f\"✅ File {source_file} uploaded to gs://{bucket_name}/{destination_blob}\")"
   ]
  },
  {
   "cell_type": "code",
   "execution_count": 20,
   "id": "0d6b464c",
   "metadata": {},
   "outputs": [
    {
     "name": "stdout",
     "output_type": "stream",
     "text": [
      "✅ File employee_data.csv uploaded to gs://data_gcp_bucket/employee_data.csv\n"
     ]
    }
   ],
   "source": [
    "# Example usage\n",
    "bucket_name = \"data_gcp_bucket\"  # 🔹 Replace with your bucket name\n",
    "destination_blob = \"employee_data.csv\"\n",
    "upload_to_gcs(bucket_name, csv_file, destination_blob)"
   ]
  },
  {
   "cell_type": "markdown",
   "id": "d0bb91f1",
   "metadata": {},
   "source": [
    "Upload CSV to GCS in the new bucket folder by creating if not exists"
   ]
  },
  {
   "cell_type": "code",
   "execution_count": null,
   "id": "5e485542",
   "metadata": {},
   "outputs": [
    {
     "name": "stdout",
     "output_type": "stream",
     "text": [
      "✅ Bucket data_gcp_bucket exists\n",
      "✅ File employee_data.csv uploaded to gs://data_gcp_bucket/2025/07/pathmatics/employee_data.csv\n"
     ]
    }
   ],
   "source": [
    "from faker import Faker\n",
    "import random\n",
    "import string\n",
    "import pandas as pd\n",
    "from google.cloud import storage\n",
    "\n",
    "fake = Faker()\n",
    "\n",
    "# ---------- Step 1: Generate Random Password ----------\n",
    "def generate_password(length=10):\n",
    "    chars = string.ascii_letters + string.digits + string.punctuation\n",
    "    return ''.join(random.choice(chars) for _ in range(length))\n",
    "\n",
    "# ---------- Step 2: Generate Employee Data ----------\n",
    "def generate_employee_data(n=100):\n",
    "    departments = [\"HR\", \"Finance\", \"Engineering\", \"Sales\", \"Marketing\", \"IT\", \"Admin\"]\n",
    "    employees = []\n",
    "\n",
    "    for i in range(1, n+1):\n",
    "        emp = {\n",
    "            \"employee_id\": i,\n",
    "            \"name\": fake.name(),\n",
    "            \"department\": random.choice(departments),\n",
    "            \"salary\": random.randint(30000, 120000),\n",
    "            \"email\": fake.email(),\n",
    "            \"joining_date\": fake.date_between(start_date=\"-5y\", end_date=\"today\"),\n",
    "            \"password\": generate_password(10)\n",
    "        }\n",
    "        employees.append(emp)\n",
    "\n",
    "    return pd.DataFrame(employees)\n",
    "\n",
    "# ---------- Step 3: Save to CSV ----------\n",
    "df = generate_employee_data(50)\n",
    "csv_file = \"employee_data.csv\"\n",
    "# df.to_csv(csv_file, index=False)\n",
    "\n",
    "# ---------- Step 4: Upload to GCS (subfolder) ----------\n",
    "def upload_to_gcs(bucket_name, sub_folder, source_file, destination_file):\n",
    "    client = storage.Client()\n",
    "\n",
    "    # Ensure bucket exists\n",
    "    try:\n",
    "        bucket = client.get_bucket(bucket_name)\n",
    "        print(f\"✅ Bucket {bucket_name} exists\")\n",
    "    except Exception:\n",
    "        bucket = client.create_bucket(bucket_name, location=\"US\")\n",
    "        print(f\"🆕 Bucket {bucket_name} created\")\n",
    "\n",
    "    # Upload file inside sub-folder\n",
    "    destination_blob = f\"{sub_folder}/{destination_file}\"\n",
    "    blob = bucket.blob(destination_blob)\n",
    "    blob.upload_from_filename(source_file)\n",
    "    print(f\"✅ File {source_file} uploaded to gs://{bucket_name}/{destination_blob}\")\n",
    "\n",
    "# Example usage\n",
    "bucket_name = \"data_gcp_bucket\"           # main bucket\n",
    "sub_folder = \"2025/07/pathmatics\"              # subfolder path\n",
    "upload_to_gcs(bucket_name, sub_folder, csv_file, \"employee_data.csv\")\n"
   ]
  }
 ],
 "metadata": {
  "kernelspec": {
   "display_name": "myvenv",
   "language": "python",
   "name": "python3"
  },
  "language_info": {
   "codemirror_mode": {
    "name": "ipython",
    "version": 3
   },
   "file_extension": ".py",
   "mimetype": "text/x-python",
   "name": "python",
   "nbconvert_exporter": "python",
   "pygments_lexer": "ipython3",
   "version": "3.13.1"
  }
 },
 "nbformat": 4,
 "nbformat_minor": 5
}
